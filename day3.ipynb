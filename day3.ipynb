{
 "cells": [
  {
   "cell_type": "code",
   "execution_count": null,
   "id": "26941d9d",
   "metadata": {},
   "outputs": [],
   "source": [
    "a=int(input(\"Enter a number:\"))\n",
    "if(a>0):\n",
    "    print(\"You input positive number\")\n",
    "elif(a<0):\n",
    "    print(\"You input negative number\")\n",
    "else:\n",
    "    print(\"Invalid input\")\n",
    "if(a==0):\n",
    "    print(\"You enter 0, which is real number\")"
   ]
  },
  {
   "cell_type": "code",
   "execution_count": null,
   "id": "4beeabbc",
   "metadata": {},
   "outputs": [],
   "source": [
    "a=int(input(\"Enter a number:\"))\n",
    "x=7\n",
    "if(a==x):\n",
    "    print(\"Congratulation, you guess it right\")\n",
    "else:\n",
    "    print(\"Better luck next time\")"
   ]
  },
  {
   "cell_type": "code",
   "execution_count": null,
   "id": "cd8741af",
   "metadata": {},
   "outputs": [],
   "source": [
    "x=input(\"Do you have ant discount?\")\n",
    "x=x.lower()\n",
    "if(x==\"yes\"):\n",
    "    print(\"Congratulation, your bill is 45 taka\")\n",
    "else:\n",
    "    print(\"your bill is 50 taka\")"
   ]
  },
  {
   "cell_type": "code",
   "execution_count": null,
   "id": "c3ed4cd8",
   "metadata": {},
   "outputs": [],
   "source": [
    "for i in range(100,-1,-5):\n",
    "    if(i%2==0):\n",
    "        print(i,end=\" \")"
   ]
  },
  {
   "cell_type": "code",
   "execution_count": null,
   "id": "3d3e0dd1",
   "metadata": {},
   "outputs": [],
   "source": [
    "x=input(\"Enter your name: \")\n",
    "x=x.lower()\n",
    "vow=x.count('a')+x.count('e')+x.count('i')+x.count('o')+x.count('u')\n",
    "con=len(x)-vow-x.count(\" \")\n",
    "print(\"Your vowel is: \",vow)\n",
    "print(\"Your Consonent is: \",con)\n"
   ]
  },
  {
   "cell_type": "code",
   "execution_count": null,
   "id": "c79c443c",
   "metadata": {},
   "outputs": [
    {
     "name": "stdout",
     "output_type": "stream",
     "text": [
      "Your guess is too low\n",
      "Your guess is too low\n",
      "Your guess is too low\n",
      "Your guess is too low\n",
      "You get the number\n",
      "You tried 5 times\n"
     ]
    }
   ],
   "source": [
    "from random import randint\n",
    "\n",
    "a = randint(1, 5)\n",
    "cnt = 0\n",
    "\n",
    "while True:\n",
    "    inp = int(input(\"Enter number: \"))\n",
    "    cnt += 1\n",
    "    if inp == a:\n",
    "        print(\"You get the number\")\n",
    "        break\n",
    "    else:\n",
    "        if(inp > a):\n",
    "            print(\"Your guess is high\")\n",
    "        else:\n",
    "            print(\"Your guess is low\")\n",
    "\n",
    "print(\"You tried\", cnt, \"times\")\n"
   ]
  }
 ],
 "metadata": {
  "kernelspec": {
   "display_name": ".venv",
   "language": "python",
   "name": "python3"
  },
  "language_info": {
   "codemirror_mode": {
    "name": "ipython",
    "version": 3
   },
   "file_extension": ".py",
   "mimetype": "text/x-python",
   "name": "python",
   "nbconvert_exporter": "python",
   "pygments_lexer": "ipython3",
   "version": "3.12.10"
  }
 },
 "nbformat": 4,
 "nbformat_minor": 5
}
