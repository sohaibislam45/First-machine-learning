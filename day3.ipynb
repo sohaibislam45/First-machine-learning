{
 "cells": [
  {
   "cell_type": "code",
   "execution_count": null,
   "id": "26941d9d",
   "metadata": {},
   "outputs": [
    {
     "name": "stdout",
     "output_type": "stream",
     "text": [
      "Invalid input\n",
      "You enter 0, which is real number\n"
     ]
    }
   ],
   "source": [
    "a=int(input(\"Enter a number:\"))\n",
    "if(a>0):\n",
    "    print(\"You input positive number\")\n",
    "elif(a<0):\n",
    "    print(\"You input negative number\")\n",
    "else:\n",
    "    print(\"Invalid input\")\n",
    "if(a==0):\n",
    "    print(\"You enter 0, which is real number\")"
   ]
  },
  {
   "cell_type": "code",
   "execution_count": 16,
   "id": "4beeabbc",
   "metadata": {},
   "outputs": [
    {
     "name": "stdout",
     "output_type": "stream",
     "text": [
      "Better luck next time\n"
     ]
    }
   ],
   "source": [
    "a=int(input(\"Enter a number:\"))\n",
    "x=7\n",
    "if(a==x):\n",
    "    print(\"Congratulation, you guess it right\")\n",
    "else:\n",
    "    print(\"Better luck next time\")"
   ]
  },
  {
   "cell_type": "code",
   "execution_count": 20,
   "id": "cd8741af",
   "metadata": {},
   "outputs": [
    {
     "name": "stdout",
     "output_type": "stream",
     "text": [
      "your bill is 50 taka\n"
     ]
    }
   ],
   "source": [
    "x=input(\"Do you have ant discount?\")\n",
    "x=x.lower()\n",
    "if(x==\"yes\"):\n",
    "    print(\"Congratulation, your bill is 45 taka\")\n",
    "else:\n",
    "    print(\"your bill is 50 taka\")"
   ]
  },
  {
   "cell_type": "code",
   "execution_count": 30,
   "id": "c3ed4cd8",
   "metadata": {},
   "outputs": [
    {
     "name": "stdout",
     "output_type": "stream",
     "text": [
      "100 90 80 70 60 50 40 30 20 10 0 "
     ]
    }
   ],
   "source": [
    "for i in range(100,-1,-5):\n",
    "    if(i%2==0):\n",
    "        print(i,end=\" \")"
   ]
  }
 ],
 "metadata": {
  "kernelspec": {
   "display_name": ".venv",
   "language": "python",
   "name": "python3"
  },
  "language_info": {
   "codemirror_mode": {
    "name": "ipython",
    "version": 3
   },
   "file_extension": ".py",
   "mimetype": "text/x-python",
   "name": "python",
   "nbconvert_exporter": "python",
   "pygments_lexer": "ipython3",
   "version": "3.12.10"
  }
 },
 "nbformat": 4,
 "nbformat_minor": 5
}
