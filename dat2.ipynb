{
 "cells": [
  {
   "cell_type": "code",
   "execution_count": 1,
   "id": "2f9b0623",
   "metadata": {},
   "outputs": [
    {
     "name": "stdout",
     "output_type": "stream",
     "text": [
      "12345\n",
      "1/2/3/4/5\n",
      "1 2 3 4 5\n",
      "\n",
      "\n"
     ]
    }
   ],
   "source": [
    "print(1, 2, 3, 4, 5, sep='')\n",
    "print(1, 2, 3, 4, 5, sep='/')\n",
    "print(1, 2, 3, 4, 5, end='\\n\\n\\n')"
   ]
  },
  {
   "cell_type": "code",
   "execution_count": 2,
   "id": "de9260e7",
   "metadata": {},
   "outputs": [
    {
     "name": "stdout",
     "output_type": "stream",
     "text": [
      "f\n",
      "a\n",
      "s\n",
      "d\n"
     ]
    }
   ],
   "source": [
    "# prompt: print a string, each character with separate line without loop.\n",
    "\n",
    "string = input(\"Enter a Name: \")\n",
    "print(*list(string), sep='\\n')"
   ]
  }
 ],
 "metadata": {
  "kernelspec": {
   "display_name": ".venv",
   "language": "python",
   "name": "python3"
  },
  "language_info": {
   "codemirror_mode": {
    "name": "ipython",
    "version": 3
   },
   "file_extension": ".py",
   "mimetype": "text/x-python",
   "name": "python",
   "nbconvert_exporter": "python",
   "pygments_lexer": "ipython3",
   "version": "3.12.10"
  }
 },
 "nbformat": 4,
 "nbformat_minor": 5
}
