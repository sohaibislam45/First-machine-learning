{
 "cells": [
  {
   "cell_type": "code",
   "execution_count": 1,
   "id": "2f9b0623",
   "metadata": {},
   "outputs": [
    {
     "name": "stdout",
     "output_type": "stream",
     "text": [
      "12345\n",
      "1/2/3/4/5\n",
      "1 2 3 4 5\n",
      "\n",
      "\n"
     ]
    }
   ],
   "source": [
    "print(1, 2, 3, 4, 5, sep='')\n",
    "print(1, 2, 3, 4, 5, sep='/')\n",
    "print(1, 2, 3, 4, 5, end='\\n\\n\\n')"
   ]
  },
  {
   "cell_type": "code",
   "execution_count": 2,
   "id": "de9260e7",
   "metadata": {},
   "outputs": [
    {
     "name": "stdout",
     "output_type": "stream",
     "text": [
      "f\n",
      "a\n",
      "s\n",
      "d\n"
     ]
    }
   ],
   "source": [
    "# prompt: print a string, each character with separate line without loop.\n",
    "\n",
    "string = input(\"Enter a Name: \")\n",
    "print(*list(string), sep='\\n')"
   ]
  },
  {
   "cell_type": "markdown",
   "id": "f943422f",
   "metadata": {},
   "source": [
    "## Basic of python\n",
    "* code 1"
   ]
  },
  {
   "cell_type": "code",
   "execution_count": 8,
   "id": "d0639a1c",
   "metadata": {},
   "outputs": [
    {
     "name": "stdout",
     "output_type": "stream",
     "text": [
      "1 and 2 and 3 and 4\n"
     ]
    }
   ],
   "source": [
    "print(1,2,3,4,sep=\" and \")"
   ]
  },
  {
   "cell_type": "code",
   "execution_count": 10,
   "id": "80176d7a",
   "metadata": {},
   "outputs": [
    {
     "name": "stdout",
     "output_type": "stream",
     "text": [
      "15\n"
     ]
    }
   ],
   "source": [
    "def add():\n",
    "    \"\"\"This is addition function\n",
    "\n",
    "    Returns:\n",
    "        int: a variable store 5\n",
    "        int: b variable store 10\n",
    "    \"\"\"\n",
    "    a,b=5,10\n",
    "    return a+b   \n",
    "print(add())"
   ]
  },
  {
   "cell_type": "code",
   "execution_count": 2,
   "id": "451ce66d",
   "metadata": {},
   "outputs": [
    {
     "name": "stdout",
     "output_type": "stream",
     "text": [
      "You input negative number\n"
     ]
    }
   ],
   "source": [
    "a=int(input(\"Enter a number:\"))\n",
    "if(a>0):\n",
    "    print(\"You input positive number\")\n",
    "elif(a<0):\n",
    "    print(\"You input negative number\")\n",
    "else:\n",
    "    print(\"Invalid input\")"
   ]
  }
 ],
 "metadata": {
  "kernelspec": {
   "display_name": ".venv",
   "language": "python",
   "name": "python3"
  },
  "language_info": {
   "codemirror_mode": {
    "name": "ipython",
    "version": 3
   },
   "file_extension": ".py",
   "mimetype": "text/x-python",
   "name": "python",
   "nbconvert_exporter": "python",
   "pygments_lexer": "ipython3",
   "version": "3.12.10"
  }
 },
 "nbformat": 4,
 "nbformat_minor": 5
}
